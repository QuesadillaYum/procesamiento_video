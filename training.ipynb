{
 "cells": [
  {
   "cell_type": "markdown",
   "metadata": {},
   "source": [
    "Para más información consultar Readme.txt"
   ]
  },
  {
   "cell_type": "markdown",
   "metadata": {},
   "source": [
    "# Librerias"
   ]
  },
  {
   "cell_type": "code",
   "execution_count": 1,
   "metadata": {},
   "outputs": [],
   "source": [
    "from keras.preprocessing import image   # for preprocessing the images\n",
    "from keras.applications.vgg16 import preprocess_input\n",
    "from sklearn.model_selection import train_test_split\n",
    "import numpy as np    # for mathematical operations\n",
    "from keras.utils import np_utils\n",
    "from skimage.transform import resize   # for resizing images\n",
    "import cv2     # for capturing videos\n",
    "import math   # for mathematical operations\n",
    "import matplotlib.pyplot as plt    # for plotting the images\n",
    "%matplotlib inline\n",
    "import pandas as pd\n",
    "\n",
    "from keras.models import Sequential\n",
    "from keras.applications.vgg16 import VGG16\n",
    "from keras.layers import Dense, InputLayer, Dropout"
   ]
  },
  {
   "cell_type": "markdown",
   "metadata": {},
   "source": [
    "## Función para graficar validacion accuracy"
   ]
  },
  {
   "cell_type": "code",
   "execution_count": null,
   "metadata": {},
   "outputs": [],
   "source": [
    "def plot_history(history):\n",
    "    \"\"\"Plots accuracy/loss for training/validation set as a function of the epochs\n",
    "        :param history: Training history of model\n",
    "        :return:\n",
    "    \"\"\"\n",
    "    fig, axs = plt.subplots(2)\n",
    "\n",
    "    # create accuracy sublpot\n",
    "    axs[0].plot(history.history[\"accuracy\"], label=\"train accuracy\")\n",
    "    axs[0].plot(history.history[\"val_accuracy\"], label=\"test accuracy\")\n",
    "    axs[0].set_ylabel(\"Accuracy\")\n",
    "    axs[0].legend(loc=\"lower right\")\n",
    "    axs[0].set_title(\"Accuracy eval\")\n",
    "\n",
    "    # create error sublpot\n",
    "    axs[1].plot(history.history[\"loss\"], label=\"train error\")\n",
    "    axs[1].plot(history.history[\"val_loss\"], label=\"test error\")\n",
    "    axs[1].set_ylabel(\"Error\")\n",
    "    axs[1].set_xlabel(\"Epoch\")\n",
    "    axs[1].legend(loc=\"upper right\")\n",
    "    axs[1].set_title(\"Error eval\")\n",
    "\n",
    "    plt.show()"
   ]
  },
  {
   "cell_type": "markdown",
   "metadata": {},
   "source": [
    "## Extract caracteristicas p/modelo"
   ]
  },
  {
   "cell_type": "code",
   "execution_count": 2,
   "metadata": {},
   "outputs": [
    {
     "data": {
      "text/html": [
       "<div>\n",
       "<style scoped>\n",
       "    .dataframe tbody tr th:only-of-type {\n",
       "        vertical-align: middle;\n",
       "    }\n",
       "\n",
       "    .dataframe tbody tr th {\n",
       "        vertical-align: top;\n",
       "    }\n",
       "\n",
       "    .dataframe thead th {\n",
       "        text-align: right;\n",
       "    }\n",
       "</style>\n",
       "<table border=\"1\" class=\"dataframe\">\n",
       "  <thead>\n",
       "    <tr style=\"text-align: right;\">\n",
       "      <th></th>\n",
       "      <th>image_ID</th>\n",
       "      <th>Class</th>\n",
       "    </tr>\n",
       "  </thead>\n",
       "  <tbody>\n",
       "    <tr>\n",
       "      <th>0</th>\n",
       "      <td>frame0.jpg</td>\n",
       "      <td>1</td>\n",
       "    </tr>\n",
       "    <tr>\n",
       "      <th>1</th>\n",
       "      <td>frame1.jpg</td>\n",
       "      <td>0</td>\n",
       "    </tr>\n",
       "    <tr>\n",
       "      <th>2</th>\n",
       "      <td>frame2.jpg</td>\n",
       "      <td>0</td>\n",
       "    </tr>\n",
       "    <tr>\n",
       "      <th>3</th>\n",
       "      <td>frame3.jpg</td>\n",
       "      <td>0</td>\n",
       "    </tr>\n",
       "    <tr>\n",
       "      <th>4</th>\n",
       "      <td>frame4.jpg</td>\n",
       "      <td>0</td>\n",
       "    </tr>\n",
       "  </tbody>\n",
       "</table>\n",
       "</div>"
      ],
      "text/plain": [
       "     image_ID  Class\n",
       "0  frame0.jpg      1\n",
       "1  frame1.jpg      0\n",
       "2  frame2.jpg      0\n",
       "3  frame3.jpg      0\n",
       "4  frame4.jpg      0"
      ]
     },
     "execution_count": 2,
     "metadata": {},
     "output_type": "execute_result"
    }
   ],
   "source": [
    "data = pd.read_csv('data_completo.csv')# reading the csv file\n",
    "data.head()      # printing first five rows of the file"
   ]
  },
  {
   "cell_type": "code",
   "execution_count": 7,
   "metadata": {},
   "outputs": [
    {
     "name": "stderr",
     "output_type": "stream",
     "text": [
      "<ipython-input-7-24617b28b408>:5: VisibleDeprecationWarning: Creating an ndarray from ragged nested sequences (which is a list-or-tuple of lists-or-tuples-or ndarrays with different lengths or shapes) is deprecated. If you meant to do this, you must specify 'dtype=object' when creating the ndarray.\n",
      "  X = np.array(X)    # converting list to array\n"
     ]
    }
   ],
   "source": [
    "X = [ ]     # creating an empty array\n",
    "for img_name in data.image_ID:\n",
    "    img = plt.imread('./Labeled/' + img_name)\n",
    "    X.append(img)  # storing each image in array X\n",
    "X = np.array(X)    # converting list to array"
   ]
  },
  {
   "cell_type": "code",
   "execution_count": 9,
   "metadata": {},
   "outputs": [],
   "source": [
    "y = data.Class\n",
    "dummy_y = np_utils.to_categorical(y)    # one hot encoding Classes"
   ]
  },
  {
   "cell_type": "markdown",
   "metadata": {},
   "source": [
    "Haciendo reshapes"
   ]
  },
  {
   "cell_type": "code",
   "execution_count": 10,
   "metadata": {},
   "outputs": [],
   "source": [
    "image = []\n",
    "for i in range(0,X.shape[0]):\n",
    "    a = resize(X[i], preserve_range=True, output_shape=(224,224)).astype(int)      # reshaping to 224*224*3\n",
    "    image.append(a)\n",
    "X = np.array(image)"
   ]
  },
  {
   "cell_type": "markdown",
   "metadata": {},
   "source": [
    "Preprocesado para el modelo"
   ]
  },
  {
   "cell_type": "code",
   "execution_count": 12,
   "metadata": {},
   "outputs": [],
   "source": [
    "#X = preprocess_input(X, mode='tf')      # preprocessing the input data\n",
    "X = preprocess_input(X, data_format=None) "
   ]
  },
  {
   "cell_type": "code",
   "execution_count": 13,
   "metadata": {},
   "outputs": [],
   "source": [
    "X_train, X_valid, y_train, y_valid = train_test_split(X, dummy_y, test_size=0.3, random_state=42)    # preparing the validation set"
   ]
  },
  {
   "cell_type": "markdown",
   "metadata": {},
   "source": [
    "## Construyendo el modelo"
   ]
  },
  {
   "cell_type": "code",
   "execution_count": 14,
   "metadata": {},
   "outputs": [],
   "source": [
    "from keras.models import Sequential\n",
    "from keras.applications.vgg16 import VGG16\n",
    "from keras.layers import Dense, InputLayer, Dropout"
   ]
  },
  {
   "cell_type": "code",
   "execution_count": 15,
   "metadata": {},
   "outputs": [
    {
     "name": "stdout",
     "output_type": "stream",
     "text": [
      "Downloading data from https://storage.googleapis.com/tensorflow/keras-applications/vgg16/vgg16_weights_tf_dim_ordering_tf_kernels_notop.h5\n",
      "58892288/58889256 [==============================] - 10s 0us/step\n",
      "58900480/58889256 [==============================] - 10s 0us/step\n"
     ]
    }
   ],
   "source": [
    "base_model = VGG16(weights='imagenet', include_top=False, input_shape=(224, 224, 3))    # include_top=False to remove the top layer"
   ]
  },
  {
   "cell_type": "code",
   "execution_count": 16,
   "metadata": {},
   "outputs": [
    {
     "data": {
      "text/plain": [
       "((88, 7, 7, 512), (39, 7, 7, 512))"
      ]
     },
     "execution_count": 16,
     "metadata": {},
     "output_type": "execute_result"
    }
   ],
   "source": [
    "X_train = base_model.predict(X_train)\n",
    "X_valid = base_model.predict(X_valid)\n",
    "X_train.shape, X_valid.shape"
   ]
  },
  {
   "cell_type": "code",
   "execution_count": 18,
   "metadata": {},
   "outputs": [],
   "source": [
    "X_train = X_train.reshape(88, 7*7*512)      # converting to 1-D\n",
    "X_valid = X_valid.reshape(39, 7*7*512)"
   ]
  },
  {
   "cell_type": "code",
   "execution_count": 19,
   "metadata": {},
   "outputs": [],
   "source": [
    "train = X_train/X_train.max()      # centering the data\n",
    "X_valid = X_valid/X_train.max()"
   ]
  },
  {
   "cell_type": "code",
   "execution_count": 22,
   "metadata": {},
   "outputs": [],
   "source": [
    "# i. Building the model\n",
    "model = Sequential()\n",
    "model.add(InputLayer((7*7*512,)))    # input layer\n",
    "model.add(Dense(units=1024, activation='sigmoid')) # hidden layer\n",
    "model.add(Dense(2, activation='softmax'))    # output layer"
   ]
  },
  {
   "cell_type": "code",
   "execution_count": 23,
   "metadata": {},
   "outputs": [
    {
     "name": "stdout",
     "output_type": "stream",
     "text": [
      "Model: \"sequential_1\"\n",
      "_________________________________________________________________\n",
      " Layer (type)                Output Shape              Param #   \n",
      "=================================================================\n",
      " dense_2 (Dense)             (None, 1024)              25691136  \n",
      "                                                                 \n",
      " dense_3 (Dense)             (None, 2)                 2050      \n",
      "                                                                 \n",
      "=================================================================\n",
      "Total params: 25,693,186\n",
      "Trainable params: 25,693,186\n",
      "Non-trainable params: 0\n",
      "_________________________________________________________________\n"
     ]
    }
   ],
   "source": [
    "model.summary()"
   ]
  },
  {
   "cell_type": "code",
   "execution_count": 24,
   "metadata": {},
   "outputs": [],
   "source": [
    "# ii. Compiling the model\n",
    "model.compile(loss='categorical_crossentropy', optimizer='adam', metrics=['accuracy'])"
   ]
  },
  {
   "cell_type": "code",
   "execution_count": 27,
   "metadata": {},
   "outputs": [
    {
     "name": "stdout",
     "output_type": "stream",
     "text": [
      "Epoch 1/100\n",
      "3/3 [==============================] - 1s 270ms/step - loss: 0.0014 - accuracy: 1.0000 - val_loss: 0.3934 - val_accuracy: 0.9231\n",
      "Epoch 2/100\n",
      "3/3 [==============================] - 1s 239ms/step - loss: 0.0014 - accuracy: 1.0000 - val_loss: 0.3940 - val_accuracy: 0.9231\n",
      "Epoch 3/100\n",
      "3/3 [==============================] - 1s 220ms/step - loss: 0.0014 - accuracy: 1.0000 - val_loss: 0.3947 - val_accuracy: 0.9231\n",
      "Epoch 4/100\n",
      "3/3 [==============================] - 1s 252ms/step - loss: 0.0013 - accuracy: 1.0000 - val_loss: 0.3955 - val_accuracy: 0.9231\n",
      "Epoch 5/100\n",
      "3/3 [==============================] - 1s 213ms/step - loss: 0.0013 - accuracy: 1.0000 - val_loss: 0.3962 - val_accuracy: 0.9231\n",
      "Epoch 6/100\n",
      "3/3 [==============================] - 1s 222ms/step - loss: 0.0013 - accuracy: 1.0000 - val_loss: 0.3970 - val_accuracy: 0.9231\n",
      "Epoch 7/100\n",
      "3/3 [==============================] - 1s 231ms/step - loss: 0.0013 - accuracy: 1.0000 - val_loss: 0.3978 - val_accuracy: 0.9231\n",
      "Epoch 8/100\n",
      "3/3 [==============================] - 1s 207ms/step - loss: 0.0013 - accuracy: 1.0000 - val_loss: 0.3985 - val_accuracy: 0.9231\n",
      "Epoch 9/100\n",
      "3/3 [==============================] - 1s 215ms/step - loss: 0.0012 - accuracy: 1.0000 - val_loss: 0.3993 - val_accuracy: 0.9231\n",
      "Epoch 10/100\n",
      "3/3 [==============================] - 1s 189ms/step - loss: 0.0012 - accuracy: 1.0000 - val_loss: 0.4001 - val_accuracy: 0.9231\n",
      "Epoch 11/100\n",
      "3/3 [==============================] - 1s 210ms/step - loss: 0.0012 - accuracy: 1.0000 - val_loss: 0.4006 - val_accuracy: 0.9231\n",
      "Epoch 12/100\n",
      "3/3 [==============================] - 1s 218ms/step - loss: 0.0012 - accuracy: 1.0000 - val_loss: 0.4011 - val_accuracy: 0.9231\n",
      "Epoch 13/100\n",
      "3/3 [==============================] - 1s 208ms/step - loss: 0.0012 - accuracy: 1.0000 - val_loss: 0.4020 - val_accuracy: 0.9231\n",
      "Epoch 14/100\n",
      "3/3 [==============================] - 1s 232ms/step - loss: 0.0011 - accuracy: 1.0000 - val_loss: 0.4025 - val_accuracy: 0.9231\n",
      "Epoch 15/100\n",
      "3/3 [==============================] - 1s 211ms/step - loss: 0.0011 - accuracy: 1.0000 - val_loss: 0.4029 - val_accuracy: 0.9231\n",
      "Epoch 16/100\n",
      "3/3 [==============================] - 1s 203ms/step - loss: 0.0011 - accuracy: 1.0000 - val_loss: 0.4035 - val_accuracy: 0.9231\n",
      "Epoch 17/100\n",
      "3/3 [==============================] - 1s 205ms/step - loss: 0.0011 - accuracy: 1.0000 - val_loss: 0.4039 - val_accuracy: 0.9231\n",
      "Epoch 18/100\n",
      "3/3 [==============================] - 1s 206ms/step - loss: 0.0011 - accuracy: 1.0000 - val_loss: 0.4046 - val_accuracy: 0.9231\n",
      "Epoch 19/100\n",
      "3/3 [==============================] - 1s 205ms/step - loss: 0.0011 - accuracy: 1.0000 - val_loss: 0.4051 - val_accuracy: 0.9231\n",
      "Epoch 20/100\n",
      "3/3 [==============================] - 1s 204ms/step - loss: 0.0011 - accuracy: 1.0000 - val_loss: 0.4057 - val_accuracy: 0.9231\n",
      "Epoch 21/100\n",
      "3/3 [==============================] - 1s 210ms/step - loss: 0.0010 - accuracy: 1.0000 - val_loss: 0.4063 - val_accuracy: 0.9231\n",
      "Epoch 22/100\n",
      "3/3 [==============================] - 1s 232ms/step - loss: 0.0010 - accuracy: 1.0000 - val_loss: 0.4068 - val_accuracy: 0.9231\n",
      "Epoch 23/100\n",
      "3/3 [==============================] - 1s 210ms/step - loss: 0.0010 - accuracy: 1.0000 - val_loss: 0.4074 - val_accuracy: 0.9231\n",
      "Epoch 24/100\n",
      "3/3 [==============================] - 1s 215ms/step - loss: 9.9794e-04 - accuracy: 1.0000 - val_loss: 0.4080 - val_accuracy: 0.9231\n",
      "Epoch 25/100\n",
      "3/3 [==============================] - 1s 201ms/step - loss: 9.8258e-04 - accuracy: 1.0000 - val_loss: 0.4084 - val_accuracy: 0.9231\n",
      "Epoch 26/100\n",
      "3/3 [==============================] - 1s 217ms/step - loss: 9.7328e-04 - accuracy: 1.0000 - val_loss: 0.4089 - val_accuracy: 0.9231\n",
      "Epoch 27/100\n",
      "3/3 [==============================] - 1s 215ms/step - loss: 9.5790e-04 - accuracy: 1.0000 - val_loss: 0.4094 - val_accuracy: 0.9231\n",
      "Epoch 28/100\n",
      "3/3 [==============================] - 1s 204ms/step - loss: 9.4497e-04 - accuracy: 1.0000 - val_loss: 0.4100 - val_accuracy: 0.9231\n",
      "Epoch 29/100\n",
      "3/3 [==============================] - 1s 215ms/step - loss: 9.3367e-04 - accuracy: 1.0000 - val_loss: 0.4105 - val_accuracy: 0.9231\n",
      "Epoch 30/100\n",
      "3/3 [==============================] - 1s 201ms/step - loss: 9.1837e-04 - accuracy: 1.0000 - val_loss: 0.4111 - val_accuracy: 0.9231\n",
      "Epoch 31/100\n",
      "3/3 [==============================] - 1s 211ms/step - loss: 9.0922e-04 - accuracy: 1.0000 - val_loss: 0.4117 - val_accuracy: 0.9231\n",
      "Epoch 32/100\n",
      "3/3 [==============================] - 1s 206ms/step - loss: 8.9453e-04 - accuracy: 1.0000 - val_loss: 0.4122 - val_accuracy: 0.9231\n",
      "Epoch 33/100\n",
      "3/3 [==============================] - 1s 262ms/step - loss: 8.8299e-04 - accuracy: 1.0000 - val_loss: 0.4130 - val_accuracy: 0.9231\n",
      "Epoch 34/100\n",
      "3/3 [==============================] - 1s 300ms/step - loss: 8.7106e-04 - accuracy: 1.0000 - val_loss: 0.4136 - val_accuracy: 0.9231\n",
      "Epoch 35/100\n",
      "3/3 [==============================] - 1s 245ms/step - loss: 8.5798e-04 - accuracy: 1.0000 - val_loss: 0.4141 - val_accuracy: 0.9231\n",
      "Epoch 36/100\n",
      "3/3 [==============================] - 1s 207ms/step - loss: 8.4797e-04 - accuracy: 1.0000 - val_loss: 0.4147 - val_accuracy: 0.9231\n",
      "Epoch 37/100\n",
      "3/3 [==============================] - 1s 198ms/step - loss: 8.3898e-04 - accuracy: 1.0000 - val_loss: 0.4153 - val_accuracy: 0.9231\n",
      "Epoch 38/100\n",
      "3/3 [==============================] - 1s 216ms/step - loss: 8.2871e-04 - accuracy: 1.0000 - val_loss: 0.4157 - val_accuracy: 0.9231\n",
      "Epoch 39/100\n",
      "3/3 [==============================] - 1s 206ms/step - loss: 8.1829e-04 - accuracy: 1.0000 - val_loss: 0.4161 - val_accuracy: 0.9231\n",
      "Epoch 40/100\n",
      "3/3 [==============================] - 1s 214ms/step - loss: 8.0817e-04 - accuracy: 1.0000 - val_loss: 0.4165 - val_accuracy: 0.9231\n",
      "Epoch 41/100\n",
      "3/3 [==============================] - 1s 209ms/step - loss: 8.0125e-04 - accuracy: 1.0000 - val_loss: 0.4168 - val_accuracy: 0.9231\n",
      "Epoch 42/100\n",
      "3/3 [==============================] - 1s 205ms/step - loss: 7.9085e-04 - accuracy: 1.0000 - val_loss: 0.4171 - val_accuracy: 0.9231\n",
      "Epoch 43/100\n",
      "3/3 [==============================] - 1s 196ms/step - loss: 7.8011e-04 - accuracy: 1.0000 - val_loss: 0.4174 - val_accuracy: 0.9231\n",
      "Epoch 44/100\n",
      "3/3 [==============================] - 1s 211ms/step - loss: 7.6837e-04 - accuracy: 1.0000 - val_loss: 0.4179 - val_accuracy: 0.9231\n",
      "Epoch 45/100\n",
      "3/3 [==============================] - 1s 201ms/step - loss: 7.5980e-04 - accuracy: 1.0000 - val_loss: 0.4185 - val_accuracy: 0.9231\n",
      "Epoch 46/100\n",
      "3/3 [==============================] - 1s 202ms/step - loss: 7.4903e-04 - accuracy: 1.0000 - val_loss: 0.4191 - val_accuracy: 0.9231\n",
      "Epoch 47/100\n",
      "3/3 [==============================] - 1s 205ms/step - loss: 7.4195e-04 - accuracy: 1.0000 - val_loss: 0.4199 - val_accuracy: 0.9231\n",
      "Epoch 48/100\n",
      "3/3 [==============================] - 1s 200ms/step - loss: 7.3380e-04 - accuracy: 1.0000 - val_loss: 0.4204 - val_accuracy: 0.9231\n",
      "Epoch 49/100\n",
      "3/3 [==============================] - 1s 203ms/step - loss: 7.2618e-04 - accuracy: 1.0000 - val_loss: 0.4210 - val_accuracy: 0.9231\n",
      "Epoch 50/100\n",
      "3/3 [==============================] - 1s 208ms/step - loss: 7.1624e-04 - accuracy: 1.0000 - val_loss: 0.4215 - val_accuracy: 0.9231\n",
      "Epoch 51/100\n",
      "3/3 [==============================] - 1s 243ms/step - loss: 7.0860e-04 - accuracy: 1.0000 - val_loss: 0.4219 - val_accuracy: 0.9231\n",
      "Epoch 52/100\n",
      "3/3 [==============================] - 1s 203ms/step - loss: 7.0074e-04 - accuracy: 1.0000 - val_loss: 0.4224 - val_accuracy: 0.9231\n",
      "Epoch 53/100\n",
      "3/3 [==============================] - 1s 208ms/step - loss: 6.9225e-04 - accuracy: 1.0000 - val_loss: 0.4228 - val_accuracy: 0.9231\n",
      "Epoch 54/100\n",
      "3/3 [==============================] - 1s 190ms/step - loss: 6.8375e-04 - accuracy: 1.0000 - val_loss: 0.4233 - val_accuracy: 0.9231\n",
      "Epoch 55/100\n",
      "3/3 [==============================] - 1s 205ms/step - loss: 6.7730e-04 - accuracy: 1.0000 - val_loss: 0.4237 - val_accuracy: 0.9231\n",
      "Epoch 56/100\n",
      "3/3 [==============================] - 1s 199ms/step - loss: 6.6706e-04 - accuracy: 1.0000 - val_loss: 0.4241 - val_accuracy: 0.9231\n",
      "Epoch 57/100\n",
      "3/3 [==============================] - 1s 207ms/step - loss: 6.5911e-04 - accuracy: 1.0000 - val_loss: 0.4246 - val_accuracy: 0.9231\n",
      "Epoch 58/100\n",
      "3/3 [==============================] - 1s 209ms/step - loss: 6.5284e-04 - accuracy: 1.0000 - val_loss: 0.4251 - val_accuracy: 0.9231\n",
      "Epoch 59/100\n",
      "3/3 [==============================] - 1s 208ms/step - loss: 6.4550e-04 - accuracy: 1.0000 - val_loss: 0.4255 - val_accuracy: 0.9231\n",
      "Epoch 60/100\n",
      "3/3 [==============================] - 1s 210ms/step - loss: 6.3915e-04 - accuracy: 1.0000 - val_loss: 0.4260 - val_accuracy: 0.9231\n",
      "Epoch 61/100\n",
      "3/3 [==============================] - 1s 217ms/step - loss: 6.3174e-04 - accuracy: 1.0000 - val_loss: 0.4265 - val_accuracy: 0.9231\n",
      "Epoch 62/100\n",
      "3/3 [==============================] - 1s 203ms/step - loss: 6.2593e-04 - accuracy: 1.0000 - val_loss: 0.4268 - val_accuracy: 0.9231\n",
      "Epoch 63/100\n",
      "3/3 [==============================] - 1s 207ms/step - loss: 6.2027e-04 - accuracy: 1.0000 - val_loss: 0.4271 - val_accuracy: 0.9231\n",
      "Epoch 64/100\n",
      "3/3 [==============================] - 1s 208ms/step - loss: 6.1277e-04 - accuracy: 1.0000 - val_loss: 0.4276 - val_accuracy: 0.9231\n",
      "Epoch 65/100\n",
      "3/3 [==============================] - 1s 200ms/step - loss: 6.0588e-04 - accuracy: 1.0000 - val_loss: 0.4282 - val_accuracy: 0.9231\n",
      "Epoch 66/100\n",
      "3/3 [==============================] - 1s 202ms/step - loss: 5.9907e-04 - accuracy: 1.0000 - val_loss: 0.4286 - val_accuracy: 0.9231\n",
      "Epoch 67/100\n",
      "3/3 [==============================] - 1s 202ms/step - loss: 5.9204e-04 - accuracy: 1.0000 - val_loss: 0.4291 - val_accuracy: 0.9231\n",
      "Epoch 68/100\n",
      "3/3 [==============================] - 1s 212ms/step - loss: 5.8807e-04 - accuracy: 1.0000 - val_loss: 0.4296 - val_accuracy: 0.9231\n",
      "Epoch 69/100\n",
      "3/3 [==============================] - 1s 209ms/step - loss: 5.8019e-04 - accuracy: 1.0000 - val_loss: 0.4300 - val_accuracy: 0.9231\n",
      "Epoch 70/100\n",
      "3/3 [==============================] - 1s 207ms/step - loss: 5.7515e-04 - accuracy: 1.0000 - val_loss: 0.4304 - val_accuracy: 0.9231\n",
      "Epoch 71/100\n",
      "3/3 [==============================] - 1s 210ms/step - loss: 5.6826e-04 - accuracy: 1.0000 - val_loss: 0.4309 - val_accuracy: 0.9231\n",
      "Epoch 72/100\n",
      "3/3 [==============================] - 1s 201ms/step - loss: 5.6264e-04 - accuracy: 1.0000 - val_loss: 0.4314 - val_accuracy: 0.9231\n",
      "Epoch 73/100\n",
      "3/3 [==============================] - 1s 197ms/step - loss: 5.5665e-04 - accuracy: 1.0000 - val_loss: 0.4318 - val_accuracy: 0.9231\n",
      "Epoch 74/100\n",
      "3/3 [==============================] - 1s 204ms/step - loss: 5.5082e-04 - accuracy: 1.0000 - val_loss: 0.4321 - val_accuracy: 0.9231\n",
      "Epoch 75/100\n",
      "3/3 [==============================] - 1s 204ms/step - loss: 5.4546e-04 - accuracy: 1.0000 - val_loss: 0.4327 - val_accuracy: 0.9231\n",
      "Epoch 76/100\n",
      "3/3 [==============================] - 1s 207ms/step - loss: 5.3942e-04 - accuracy: 1.0000 - val_loss: 0.4332 - val_accuracy: 0.9231\n",
      "Epoch 77/100\n",
      "3/3 [==============================] - 1s 207ms/step - loss: 5.3384e-04 - accuracy: 1.0000 - val_loss: 0.4336 - val_accuracy: 0.9231\n",
      "Epoch 78/100\n",
      "3/3 [==============================] - 1s 212ms/step - loss: 5.2843e-04 - accuracy: 1.0000 - val_loss: 0.4341 - val_accuracy: 0.9231\n",
      "Epoch 79/100\n",
      "3/3 [==============================] - 1s 212ms/step - loss: 5.2266e-04 - accuracy: 1.0000 - val_loss: 0.4345 - val_accuracy: 0.9231\n",
      "Epoch 80/100\n",
      "3/3 [==============================] - 1s 204ms/step - loss: 5.1904e-04 - accuracy: 1.0000 - val_loss: 0.4348 - val_accuracy: 0.9231\n",
      "Epoch 81/100\n",
      "3/3 [==============================] - 1s 201ms/step - loss: 5.1315e-04 - accuracy: 1.0000 - val_loss: 0.4353 - val_accuracy: 0.9231\n",
      "Epoch 82/100\n",
      "3/3 [==============================] - 1s 201ms/step - loss: 5.0941e-04 - accuracy: 1.0000 - val_loss: 0.4358 - val_accuracy: 0.9231\n",
      "Epoch 83/100\n",
      "3/3 [==============================] - 1s 214ms/step - loss: 5.0303e-04 - accuracy: 1.0000 - val_loss: 0.4362 - val_accuracy: 0.9231\n",
      "Epoch 84/100\n",
      "3/3 [==============================] - 1s 200ms/step - loss: 4.9820e-04 - accuracy: 1.0000 - val_loss: 0.4367 - val_accuracy: 0.9231\n",
      "Epoch 85/100\n",
      "3/3 [==============================] - 1s 210ms/step - loss: 4.9422e-04 - accuracy: 1.0000 - val_loss: 0.4372 - val_accuracy: 0.9231\n",
      "Epoch 86/100\n",
      "3/3 [==============================] - 1s 214ms/step - loss: 4.8940e-04 - accuracy: 1.0000 - val_loss: 0.4375 - val_accuracy: 0.9231\n",
      "Epoch 87/100\n",
      "3/3 [==============================] - 1s 203ms/step - loss: 4.8484e-04 - accuracy: 1.0000 - val_loss: 0.4380 - val_accuracy: 0.9231\n",
      "Epoch 88/100\n",
      "3/3 [==============================] - 1s 205ms/step - loss: 4.7938e-04 - accuracy: 1.0000 - val_loss: 0.4383 - val_accuracy: 0.9231\n",
      "Epoch 89/100\n",
      "3/3 [==============================] - 1s 207ms/step - loss: 4.7559e-04 - accuracy: 1.0000 - val_loss: 0.4387 - val_accuracy: 0.9231\n",
      "Epoch 90/100\n",
      "3/3 [==============================] - 1s 208ms/step - loss: 4.7025e-04 - accuracy: 1.0000 - val_loss: 0.4390 - val_accuracy: 0.9231\n",
      "Epoch 91/100\n",
      "3/3 [==============================] - 1s 213ms/step - loss: 4.6811e-04 - accuracy: 1.0000 - val_loss: 0.4395 - val_accuracy: 0.9231\n",
      "Epoch 92/100\n",
      "3/3 [==============================] - 1s 210ms/step - loss: 4.6243e-04 - accuracy: 1.0000 - val_loss: 0.4400 - val_accuracy: 0.9231\n",
      "Epoch 93/100\n",
      "3/3 [==============================] - 1s 216ms/step - loss: 4.5894e-04 - accuracy: 1.0000 - val_loss: 0.4404 - val_accuracy: 0.9231\n",
      "Epoch 94/100\n",
      "3/3 [==============================] - 1s 207ms/step - loss: 4.5394e-04 - accuracy: 1.0000 - val_loss: 0.4407 - val_accuracy: 0.9231\n",
      "Epoch 95/100\n",
      "3/3 [==============================] - 1s 206ms/step - loss: 4.4966e-04 - accuracy: 1.0000 - val_loss: 0.4411 - val_accuracy: 0.9231\n",
      "Epoch 96/100\n",
      "3/3 [==============================] - 1s 211ms/step - loss: 4.4552e-04 - accuracy: 1.0000 - val_loss: 0.4414 - val_accuracy: 0.9231\n",
      "Epoch 97/100\n",
      "3/3 [==============================] - 1s 237ms/step - loss: 4.4243e-04 - accuracy: 1.0000 - val_loss: 0.4417 - val_accuracy: 0.9231\n",
      "Epoch 98/100\n",
      "3/3 [==============================] - 1s 205ms/step - loss: 4.3727e-04 - accuracy: 1.0000 - val_loss: 0.4421 - val_accuracy: 0.9231\n",
      "Epoch 99/100\n",
      "3/3 [==============================] - 1s 206ms/step - loss: 4.3343e-04 - accuracy: 1.0000 - val_loss: 0.4425 - val_accuracy: 0.9231\n",
      "Epoch 100/100\n",
      "3/3 [==============================] - 1s 198ms/step - loss: 4.2947e-04 - accuracy: 1.0000 - val_loss: 0.4427 - val_accuracy: 0.9231\n"
     ]
    },
    {
     "data": {
      "image/png": "[encoded data removed]",
      "text/plain": [
       "<Figure size 432x288 with 2 Axes>"
      ]
     },
     "metadata": {
      "needs_background": "light"
     },
     "output_type": "display_data"
    }
   ],
   "source": [
    "# iii. Training the model\n",
    "history=model.fit(train, y_train, epochs=100, validation_data=(X_valid, y_valid))\n",
    "plot_history(history)"
   ]
  },
  {
   "cell_type": "markdown",
   "metadata": {},
   "source": [
    "## Prueba con videos en ambos estados"
   ]
  },
  {
   "cell_type": "markdown",
   "metadata": {},
   "source": [
    "#### Extrayendo las frames del video prueba"
   ]
  },
  {
   "cell_type": "code",
   "execution_count": 100,
   "metadata": {},
   "outputs": [
    {
     "name": "stdout",
     "output_type": "stream",
     "text": [
      "Done!\n"
     ]
    }
   ],
   "source": [
    "count = 0\n",
    "videoFile = \"./Raw/Ambos_test/VID_20220202_155903.mp4\"\n",
    "cap = cv2.VideoCapture(videoFile)\n",
    "frameRate = cap.get(5) #frame rate\n",
    "x=1\n",
    "while(cap.isOpened()):\n",
    "    frameId = cap.get(1) #current frame number\n",
    "    ret, frame = cap.read()\n",
    "    if (ret != True):\n",
    "        break\n",
    "    if (frameId % math.floor(frameRate) == 0):\n",
    "        filename =\"test%d.jpg\" % count;count+=1\n",
    "        cv2.imwrite(filename, frame)\n",
    "cap.release()\n",
    "print (\"Done!\")"
   ]
  },
  {
   "cell_type": "markdown",
   "metadata": {},
   "source": [
    "### Vid. 1"
   ]
  },
  {
   "cell_type": "code",
   "execution_count": 101,
   "metadata": {},
   "outputs": [],
   "source": [
    "cols_name = ['image_ID']\n",
    "list0=[[\"test0.jpg\"],\n",
    "      [\"test1.jpg\"],\n",
    "      [\"test2.jpg\"],\n",
    "      [\"test3.jpg\"],\n",
    "      [\"test4.jpg\"],\n",
    "      [\"test5.jpg\"],\n",
    "      [\"test6.jpg\"],\n",
    "      [\"test7.jpg\"],\n",
    "      [\"test8.jpg\"],\n",
    "      [\"test9.jpg\"],\n",
    "      [\"test10.jpg\"],\n",
    "      [\"test11.jpg\"],\n",
    "      [\"test12.jpg\"]\n",
    "      ]"
   ]
  },
  {
   "cell_type": "code",
   "execution_count": 102,
   "metadata": {},
   "outputs": [
    {
     "data": {
      "text/html": [
       "<div>\n",
       "<style scoped>\n",
       "    .dataframe tbody tr th:only-of-type {\n",
       "        vertical-align: middle;\n",
       "    }\n",
       "\n",
       "    .dataframe tbody tr th {\n",
       "        vertical-align: top;\n",
       "    }\n",
       "\n",
       "    .dataframe thead th {\n",
       "        text-align: right;\n",
       "    }\n",
       "</style>\n",
       "<table border=\"1\" class=\"dataframe\">\n",
       "  <thead>\n",
       "    <tr style=\"text-align: right;\">\n",
       "      <th></th>\n",
       "      <th>image_ID</th>\n",
       "    </tr>\n",
       "  </thead>\n",
       "  <tbody>\n",
       "    <tr>\n",
       "      <th>0</th>\n",
       "      <td>test0.jpg</td>\n",
       "    </tr>\n",
       "    <tr>\n",
       "      <th>1</th>\n",
       "      <td>test1.jpg</td>\n",
       "    </tr>\n",
       "    <tr>\n",
       "      <th>2</th>\n",
       "      <td>test2.jpg</td>\n",
       "    </tr>\n",
       "    <tr>\n",
       "      <th>3</th>\n",
       "      <td>test3.jpg</td>\n",
       "    </tr>\n",
       "    <tr>\n",
       "      <th>4</th>\n",
       "      <td>test4.jpg</td>\n",
       "    </tr>\n",
       "    <tr>\n",
       "      <th>5</th>\n",
       "      <td>test5.jpg</td>\n",
       "    </tr>\n",
       "    <tr>\n",
       "      <th>6</th>\n",
       "      <td>test6.jpg</td>\n",
       "    </tr>\n",
       "    <tr>\n",
       "      <th>7</th>\n",
       "      <td>test7.jpg</td>\n",
       "    </tr>\n",
       "    <tr>\n",
       "      <th>8</th>\n",
       "      <td>test8.jpg</td>\n",
       "    </tr>\n",
       "    <tr>\n",
       "      <th>9</th>\n",
       "      <td>test9.jpg</td>\n",
       "    </tr>\n",
       "    <tr>\n",
       "      <th>10</th>\n",
       "      <td>test10.jpg</td>\n",
       "    </tr>\n",
       "    <tr>\n",
       "      <th>11</th>\n",
       "      <td>test11.jpg</td>\n",
       "    </tr>\n",
       "    <tr>\n",
       "      <th>12</th>\n",
       "      <td>test12.jpg</td>\n",
       "    </tr>\n",
       "  </tbody>\n",
       "</table>\n",
       "</div>"
      ],
      "text/plain": [
       "      image_ID\n",
       "0    test0.jpg\n",
       "1    test1.jpg\n",
       "2    test2.jpg\n",
       "3    test3.jpg\n",
       "4    test4.jpg\n",
       "5    test5.jpg\n",
       "6    test6.jpg\n",
       "7    test7.jpg\n",
       "8    test8.jpg\n",
       "9    test9.jpg\n",
       "10  test10.jpg\n",
       "11  test11.jpg\n",
       "12  test12.jpg"
      ]
     },
     "execution_count": 102,
     "metadata": {},
     "output_type": "execute_result"
    }
   ],
   "source": [
    "df=pd.DataFrame(list0,columns=cols_name)\n",
    "df"
   ]
  },
  {
   "cell_type": "code",
   "execution_count": 103,
   "metadata": {},
   "outputs": [],
   "source": [
    "df.to_csv('test.csv',index=False)\n"
   ]
  },
  {
   "cell_type": "code",
   "execution_count": 104,
   "metadata": {},
   "outputs": [
    {
     "data": {
      "text/html": [
       "<div>\n",
       "<style scoped>\n",
       "    .dataframe tbody tr th:only-of-type {\n",
       "        vertical-align: middle;\n",
       "    }\n",
       "\n",
       "    .dataframe tbody tr th {\n",
       "        vertical-align: top;\n",
       "    }\n",
       "\n",
       "    .dataframe thead th {\n",
       "        text-align: right;\n",
       "    }\n",
       "</style>\n",
       "<table border=\"1\" class=\"dataframe\">\n",
       "  <thead>\n",
       "    <tr style=\"text-align: right;\">\n",
       "      <th></th>\n",
       "      <th>image_ID</th>\n",
       "    </tr>\n",
       "  </thead>\n",
       "  <tbody>\n",
       "    <tr>\n",
       "      <th>0</th>\n",
       "      <td>test0.jpg</td>\n",
       "    </tr>\n",
       "    <tr>\n",
       "      <th>1</th>\n",
       "      <td>test1.jpg</td>\n",
       "    </tr>\n",
       "    <tr>\n",
       "      <th>2</th>\n",
       "      <td>test2.jpg</td>\n",
       "    </tr>\n",
       "    <tr>\n",
       "      <th>3</th>\n",
       "      <td>test3.jpg</td>\n",
       "    </tr>\n",
       "    <tr>\n",
       "      <th>4</th>\n",
       "      <td>test4.jpg</td>\n",
       "    </tr>\n",
       "  </tbody>\n",
       "</table>\n",
       "</div>"
      ],
      "text/plain": [
       "    image_ID\n",
       "0  test0.jpg\n",
       "1  test1.jpg\n",
       "2  test2.jpg\n",
       "3  test3.jpg\n",
       "4  test4.jpg"
      ]
     },
     "execution_count": 104,
     "metadata": {},
     "output_type": "execute_result"
    }
   ],
   "source": [
    "test=pd.read_csv(\"test.csv\")\n",
    "test.head()"
   ]
  },
  {
   "cell_type": "code",
   "execution_count": 105,
   "metadata": {},
   "outputs": [],
   "source": [
    "test_image = []\n",
    "for img_name in test.image_ID:\n",
    "    img = plt.imread('' + img_name)\n",
    "    test_image.append(img)\n",
    "test_img = np.array(test_image)"
   ]
  },
  {
   "cell_type": "code",
   "execution_count": 106,
   "metadata": {},
   "outputs": [
    {
     "data": {
      "text/plain": [
       "(13, 1080, 1920, 3)"
      ]
     },
     "execution_count": 106,
     "metadata": {},
     "output_type": "execute_result"
    }
   ],
   "source": [
    "test_img.shape"
   ]
  },
  {
   "cell_type": "markdown",
   "metadata": {},
   "source": [
    "Reshape"
   ]
  },
  {
   "cell_type": "code",
   "execution_count": 107,
   "metadata": {},
   "outputs": [],
   "source": [
    "test_image0 = []\n",
    "for i in range(0,test_img.shape[0]):\n",
    "    a = resize(test_img[i], preserve_range=True, output_shape=(224,224)).astype(int)\n",
    "    test_image0.append(a)\n",
    "test_image = np.array(test_image0)"
   ]
  },
  {
   "cell_type": "code",
   "execution_count": 108,
   "metadata": {},
   "outputs": [
    {
     "data": {
      "text/plain": [
       "(13, 224, 224, 3)"
      ]
     },
     "execution_count": 108,
     "metadata": {},
     "output_type": "execute_result"
    }
   ],
   "source": [
    "test_image.shape"
   ]
  },
  {
   "cell_type": "code",
   "execution_count": 109,
   "metadata": {},
   "outputs": [],
   "source": [
    "# preprocessing the images\n",
    "test_image = preprocess_input(test_image, data_format=None)\n"
   ]
  },
  {
   "cell_type": "code",
   "execution_count": 110,
   "metadata": {},
   "outputs": [],
   "source": [
    "# extracting features from the images using pretrained model\n",
    "test_image = base_model.predict(test_image)\n"
   ]
  },
  {
   "cell_type": "code",
   "execution_count": 111,
   "metadata": {},
   "outputs": [
    {
     "data": {
      "text/plain": [
       "(13, 7, 7, 512)"
      ]
     },
     "execution_count": 111,
     "metadata": {},
     "output_type": "execute_result"
    }
   ],
   "source": [
    "test_image.shape"
   ]
  },
  {
   "cell_type": "code",
   "execution_count": 112,
   "metadata": {},
   "outputs": [],
   "source": [
    "# converting the images to 1-D form\n",
    "test_image = test_image.reshape(13, 7*7*512)\n",
    "\n",
    "# zero centered images\n",
    "test_image = test_image/test_image.max()"
   ]
  },
  {
   "cell_type": "markdown",
   "metadata": {},
   "source": [
    "Predicciones"
   ]
  },
  {
   "cell_type": "code",
   "execution_count": 120,
   "metadata": {},
   "outputs": [],
   "source": [
    "predictions = model.predict(test_image)"
   ]
  },
  {
   "cell_type": "code",
   "execution_count": 123,
   "metadata": {},
   "outputs": [],
   "source": [
    "predictions=np.argmax(predictions,axis=1)"
   ]
  },
  {
   "cell_type": "code",
   "execution_count": 124,
   "metadata": {},
   "outputs": [
    {
     "name": "stdout",
     "output_type": "stream",
     "text": [
      "The screen time of Sleep is 7 seconds\n",
      "The screen time of Wake is 6 seconds\n"
     ]
    }
   ],
   "source": [
    "print(\"El tiempo/frames en pantalla dormido es de\", predictions[predictions==0].shape[0], \"seconds\")\n",
    "print(\"El tiempo/frames en pantalla despierto es de\", predictions[predictions==1].shape[0], \"seconds\")"
   ]
  },
  {
   "cell_type": "markdown",
   "metadata": {},
   "source": [
    "Participante Mi.\n",
    "De los 11 segundos se extrajeron 13 fotogramas, de los cuales 7 corresponden a dormidos y 6 despiertos, como el modelo predijo"
   ]
  },
  {
   "cell_type": "markdown",
   "metadata": {},
   "source": [
    "### Vid. 2"
   ]
  },
  {
   "cell_type": "code",
   "execution_count": 125,
   "metadata": {},
   "outputs": [
    {
     "name": "stdout",
     "output_type": "stream",
     "text": [
      "Done!\n"
     ]
    }
   ],
   "source": [
    "count = 0\n",
    "videoFile = \"./Raw/Ambos_test/VID-20220203-WA0050.mp4\"\n",
    "cap = cv2.VideoCapture(videoFile)\n",
    "frameRate = cap.get(5) #frame rate\n",
    "x=1\n",
    "while(cap.isOpened()):\n",
    "    frameId = cap.get(1) #current frame number\n",
    "    ret, frame = cap.read()\n",
    "    if (ret != True):\n",
    "        break\n",
    "    if (frameId % math.floor(frameRate) == 0):\n",
    "        filename =\"test%d.jpg\" % count;count+=1\n",
    "        cv2.imwrite(filename, frame)\n",
    "cap.release()\n",
    "print (\"Done!\")"
   ]
  },
  {
   "cell_type": "code",
   "execution_count": 126,
   "metadata": {},
   "outputs": [],
   "source": [
    "cols_name = ['image_ID']\n",
    "list0=[[\"test0.jpg\"],\n",
    "      [\"test1.jpg\"],\n",
    "      [\"test2.jpg\"],\n",
    "      [\"test3.jpg\"],\n",
    "      [\"test4.jpg\"],\n",
    "      [\"test5.jpg\"],\n",
    "      [\"test6.jpg\"],\n",
    "      [\"test7.jpg\"],\n",
    "      [\"test8.jpg\"],\n",
    "      [\"test9.jpg\"],\n",
    "      [\"test10.jpg\"],\n",
    "      [\"test11.jpg\"],\n",
    "      ]"
   ]
  },
  {
   "cell_type": "code",
   "execution_count": 127,
   "metadata": {},
   "outputs": [
    {
     "data": {
      "text/html": [
       "<div>\n",
       "<style scoped>\n",
       "    .dataframe tbody tr th:only-of-type {\n",
       "        vertical-align: middle;\n",
       "    }\n",
       "\n",
       "    .dataframe tbody tr th {\n",
       "        vertical-align: top;\n",
       "    }\n",
       "\n",
       "    .dataframe thead th {\n",
       "        text-align: right;\n",
       "    }\n",
       "</style>\n",
       "<table border=\"1\" class=\"dataframe\">\n",
       "  <thead>\n",
       "    <tr style=\"text-align: right;\">\n",
       "      <th></th>\n",
       "      <th>image_ID</th>\n",
       "    </tr>\n",
       "  </thead>\n",
       "  <tbody>\n",
       "    <tr>\n",
       "      <th>0</th>\n",
       "      <td>test0.jpg</td>\n",
       "    </tr>\n",
       "    <tr>\n",
       "      <th>1</th>\n",
       "      <td>test1.jpg</td>\n",
       "    </tr>\n",
       "    <tr>\n",
       "      <th>2</th>\n",
       "      <td>test2.jpg</td>\n",
       "    </tr>\n",
       "    <tr>\n",
       "      <th>3</th>\n",
       "      <td>test3.jpg</td>\n",
       "    </tr>\n",
       "    <tr>\n",
       "      <th>4</th>\n",
       "      <td>test4.jpg</td>\n",
       "    </tr>\n",
       "    <tr>\n",
       "      <th>5</th>\n",
       "      <td>test5.jpg</td>\n",
       "    </tr>\n",
       "    <tr>\n",
       "      <th>6</th>\n",
       "      <td>test6.jpg</td>\n",
       "    </tr>\n",
       "    <tr>\n",
       "      <th>7</th>\n",
       "      <td>test7.jpg</td>\n",
       "    </tr>\n",
       "    <tr>\n",
       "      <th>8</th>\n",
       "      <td>test8.jpg</td>\n",
       "    </tr>\n",
       "    <tr>\n",
       "      <th>9</th>\n",
       "      <td>test9.jpg</td>\n",
       "    </tr>\n",
       "    <tr>\n",
       "      <th>10</th>\n",
       "      <td>test10.jpg</td>\n",
       "    </tr>\n",
       "    <tr>\n",
       "      <th>11</th>\n",
       "      <td>test11.jpg</td>\n",
       "    </tr>\n",
       "  </tbody>\n",
       "</table>\n",
       "</div>"
      ],
      "text/plain": [
       "      image_ID\n",
       "0    test0.jpg\n",
       "1    test1.jpg\n",
       "2    test2.jpg\n",
       "3    test3.jpg\n",
       "4    test4.jpg\n",
       "5    test5.jpg\n",
       "6    test6.jpg\n",
       "7    test7.jpg\n",
       "8    test8.jpg\n",
       "9    test9.jpg\n",
       "10  test10.jpg\n",
       "11  test11.jpg"
      ]
     },
     "execution_count": 127,
     "metadata": {},
     "output_type": "execute_result"
    }
   ],
   "source": [
    "df=pd.DataFrame(list0,columns=cols_name)\n",
    "df"
   ]
  },
  {
   "cell_type": "code",
   "execution_count": 128,
   "metadata": {},
   "outputs": [],
   "source": [
    "df.to_csv('test1.csv',index=False)"
   ]
  },
  {
   "cell_type": "code",
   "execution_count": 132,
   "metadata": {},
   "outputs": [
    {
     "data": {
      "text/html": [
       "<div>\n",
       "<style scoped>\n",
       "    .dataframe tbody tr th:only-of-type {\n",
       "        vertical-align: middle;\n",
       "    }\n",
       "\n",
       "    .dataframe tbody tr th {\n",
       "        vertical-align: top;\n",
       "    }\n",
       "\n",
       "    .dataframe thead th {\n",
       "        text-align: right;\n",
       "    }\n",
       "</style>\n",
       "<table border=\"1\" class=\"dataframe\">\n",
       "  <thead>\n",
       "    <tr style=\"text-align: right;\">\n",
       "      <th></th>\n",
       "      <th>image_ID</th>\n",
       "    </tr>\n",
       "  </thead>\n",
       "  <tbody>\n",
       "    <tr>\n",
       "      <th>0</th>\n",
       "      <td>test0.jpg</td>\n",
       "    </tr>\n",
       "    <tr>\n",
       "      <th>1</th>\n",
       "      <td>test1.jpg</td>\n",
       "    </tr>\n",
       "    <tr>\n",
       "      <th>2</th>\n",
       "      <td>test2.jpg</td>\n",
       "    </tr>\n",
       "    <tr>\n",
       "      <th>3</th>\n",
       "      <td>test3.jpg</td>\n",
       "    </tr>\n",
       "    <tr>\n",
       "      <th>4</th>\n",
       "      <td>test4.jpg</td>\n",
       "    </tr>\n",
       "  </tbody>\n",
       "</table>\n",
       "</div>"
      ],
      "text/plain": [
       "    image_ID\n",
       "0  test0.jpg\n",
       "1  test1.jpg\n",
       "2  test2.jpg\n",
       "3  test3.jpg\n",
       "4  test4.jpg"
      ]
     },
     "execution_count": 132,
     "metadata": {},
     "output_type": "execute_result"
    }
   ],
   "source": [
    "test=pd.read_csv(\"test1.csv\")\n",
    "test.head()"
   ]
  },
  {
   "cell_type": "code",
   "execution_count": 133,
   "metadata": {},
   "outputs": [],
   "source": [
    "test_image = []\n",
    "for img_name in test.image_ID:\n",
    "    img = plt.imread('' + img_name)\n",
    "    test_image.append(img)\n",
    "test_img = np.array(test_image)"
   ]
  },
  {
   "cell_type": "code",
   "execution_count": 134,
   "metadata": {},
   "outputs": [],
   "source": [
    "test_image0 = []\n",
    "for i in range(0,test_img.shape[0]):\n",
    "    a = resize(test_img[i], preserve_range=True, output_shape=(224,224)).astype(int)\n",
    "    test_image0.append(a)\n",
    "test_image = np.array(test_image0)"
   ]
  },
  {
   "cell_type": "code",
   "execution_count": 135,
   "metadata": {},
   "outputs": [],
   "source": [
    "# preprocessing the images\n",
    "test_image = preprocess_input(test_image, data_format=None)"
   ]
  },
  {
   "cell_type": "code",
   "execution_count": 136,
   "metadata": {},
   "outputs": [],
   "source": [
    "# extracting features from the images using pretrained model\n",
    "test_image = base_model.predict(test_image)"
   ]
  },
  {
   "cell_type": "code",
   "execution_count": 137,
   "metadata": {},
   "outputs": [
    {
     "data": {
      "text/plain": [
       "(12, 7, 7, 512)"
      ]
     },
     "execution_count": 137,
     "metadata": {},
     "output_type": "execute_result"
    }
   ],
   "source": [
    "test_image.shape"
   ]
  },
  {
   "cell_type": "code",
   "execution_count": 138,
   "metadata": {},
   "outputs": [],
   "source": [
    "# converting the images to 1-D form\n",
    "test_image = test_image.reshape(12, 7*7*512)\n",
    "\n",
    "# zero centered images\n",
    "test_image = test_image/test_image.max()"
   ]
  },
  {
   "cell_type": "code",
   "execution_count": 139,
   "metadata": {},
   "outputs": [],
   "source": [
    "predictions = model.predict(test_image)"
   ]
  },
  {
   "cell_type": "code",
   "execution_count": 140,
   "metadata": {},
   "outputs": [],
   "source": [
    "predictions=np.argmax(predictions,axis=1) #Redondea"
   ]
  },
  {
   "cell_type": "code",
   "execution_count": 141,
   "metadata": {},
   "outputs": [
    {
     "name": "stdout",
     "output_type": "stream",
     "text": [
      "El tiempo en pantalla dormido es de 5 seconds\n",
      "El tiempo en pantalla despierto es de 7 seconds\n"
     ]
    }
   ],
   "source": [
    "print(\"El tiempo/frames en pantalla dormido es de\", predictions[predictions==0].shape[0], \"seconds\")\n",
    "print(\"El tiempo/frames en pantalla despierto es de\", predictions[predictions==1].shape[0], \"seconds\")"
   ]
  },
  {
   "cell_type": "markdown",
   "metadata": {},
   "source": [
    "Participante D, de los 11 segundos del video se extrajeron 12 frames de los cuales 6 eran dormidos y 6 despiertos. Por lo cual el modelo obtuvo un falso negativo"
   ]
  },
  {
   "cell_type": "code",
   "execution_count": 143,
   "metadata": {},
   "outputs": [
    {
     "data": {
      "text/plain": [
       "29.981243405884882"
      ]
     },
     "execution_count": 143,
     "metadata": {},
     "output_type": "execute_result"
    }
   ],
   "source": [
    "frameRate"
   ]
  },
  {
   "cell_type": "code",
   "execution_count": null,
   "metadata": {},
   "outputs": [],
   "source": []
  }
 ],
 "metadata": {
  "interpreter": {
   "hash": "41dbb3ea2c53b2d1632921de81f0ef81210443aa957bb432b85b26327cc304c9"
  },
  "kernelspec": {
   "display_name": "Python 3.8.8 ('base')",
   "language": "python",
   "name": "python3"
  },
  "language_info": {
   "codemirror_mode": {
    "name": "ipython",
    "version": 3
   },
   "file_extension": ".py",
   "mimetype": "text/x-python",
   "name": "python",
   "nbconvert_exporter": "python",
   "pygments_lexer": "ipython3",
   "version": "3.8.8"
  },
  "orig_nbformat": 4
 },
 "nbformat": 4,
 "nbformat_minor": 2
}
